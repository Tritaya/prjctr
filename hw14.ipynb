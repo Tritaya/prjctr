{
 "cells": [
  {
   "cell_type": "markdown",
   "id": "08c545eb",
   "metadata": {},
   "source": [
    "### Classmethod and staticmethod"
   ]
  },
  {
   "cell_type": "code",
   "execution_count": 106,
   "id": "570983bb",
   "metadata": {},
   "outputs": [],
   "source": [
    "class Country:\n",
    "    def __init__(self, name, population):\n",
    "        self.name = name\n",
    "        self.population = population\n",
    "\n",
    "    @classmethod\n",
    "    def create_million_country(cls, name = 'Standard name'):\n",
    "\n",
    "        instance = cls(name, 1_000_000)\n",
    "        return instance\n",
    "    \n",
    "    @classmethod\n",
    "    def read_countries_from_file(cls, filename):\n",
    "        instances = []\n",
    "        with open(filename) as file:\n",
    "            for row in file:\n",
    "                instances.append(cls(name=row[0], population=row[1]))\n",
    "\n",
    "        return instances\n",
    "\n",
    "    @staticmethod\n",
    "    def create_great_speech(speech):\n",
    "        return f'Said: {speech} with gratitude'\n",
    "\n",
    "    \n",
    "    @property\n",
    "    def population_in_millions(self):\n",
    "        return self.population / 1_000_000\n",
    "\n",
    "    def description(self):\n",
    "        return f'The population of {self.name} is {self.population}'\n"
   ]
  },
  {
   "cell_type": "code",
   "execution_count": 109,
   "id": "fa483fb9",
   "metadata": {},
   "outputs": [
    {
     "name": "stdout",
     "output_type": "stream",
     "text": [
      "Said: Some Speech with gratitude\n",
      "columbia.population 1000000\n",
      "population_in_milions 1.0\n"
     ]
    }
   ],
   "source": [
    "columbia = Country.create_million_country('Columbia')\n",
    "print(columbia.create_great_speech('Some Speech'))\n",
    "print('columbia.population', columbia.population)\n",
    "#print('is_million_country:', Country.is_million_country(columbia.population))\n",
    "print('population_in_milions', columbia.population_in_millions)"
   ]
  },
  {
   "cell_type": "code",
   "execution_count": 2,
   "id": "c2e66622",
   "metadata": {},
   "outputs": [],
   "source": [
    "class Country:\n",
    "    def __init__(self, name, population):\n",
    "        self.name = name\n",
    "        self.population = population\n",
    "\n",
    "    # magic method\n",
    "    def __str__(self):\n",
    "        return f'Country: {self.name} with population {self.population}'\n",
    "\n",
    "    def __eq__(self, other): # Порівнювання\n",
    "        print(self.name, self.population)\n",
    "        print(other.name, other.population)\n",
    "        return self.population == other.population\n"
   ]
  },
  {
   "attachments": {},
   "cell_type": "markdown",
   "id": "30ad6963",
   "metadata": {},
   "source": [
    "### Practice\n",
    "\n",
    "1. Modify the Country class to include a third instance attribute called capital as a string. Store your new class in a script and test it out by adding the following code at the bottom of the script:\n",
    "```\n",
    "japan = Country('Japan', 140_000_000, 'Tokyo')\n",
    "print(f\"{japan.name} population is {japan.population} and capital is {japan.capital}.\") \n",
    "```\n",
    "The output of your script should be:\n",
    "\n",
    "Japan population is 140000000 and capital is Tokyo.\n"
   ]
  },
  {
   "cell_type": "code",
   "execution_count": 14,
   "id": "4dbe7856",
   "metadata": {},
   "outputs": [
    {
     "name": "stdout",
     "output_type": "stream",
     "text": [
      "Country: Mexico with population 12000000\n",
      "Country: Mexico with population 12000000 and capital Mexico\n"
     ]
    }
   ],
   "source": [
    "c = Country('Mexico', 12_000_000)\n",
    "print(c)\n",
    "\n",
    "class CountryCap(Country):\n",
    "    def __init__(self, name, population, capital):\n",
    "        super().__init__(name, population)\n",
    "        self.capital = capital\n",
    "    \n",
    "    def __str__(self):\n",
    "        return super().__str__() + f' and capital {self.capital}'\n",
    "\n",
    "c = CountryCap('Mexico', 12_000_000, 'Mexico')\n",
    "print(c)"
   ]
  },
  {
   "cell_type": "markdown",
   "id": "32b3c323",
   "metadata": {},
   "source": [
    "\n",
    "2. Add increase_population method to country class. This method should take an argument and increase population of the country on this number. \n"
   ]
  },
  {
   "cell_type": "code",
   "execution_count": 21,
   "id": "7266968c",
   "metadata": {},
   "outputs": [
    {
     "name": "stdout",
     "output_type": "stream",
     "text": [
      "Country: Mexico with population 12000000 and capital Mexico\n",
      "Country: Mexico with population 12000005 and capital Mexico\n"
     ]
    }
   ],
   "source": [
    "class CountryIncreasePop(CountryCap):\n",
    "    def increase_population(self, increment):\n",
    "        self.population += increment\n",
    "\n",
    "c = CountryIncreasePop('Mexico', 12000000, 'Mexico')\n",
    "print(c)\n",
    "c.increase_population(5)\n",
    "print(c)"
   ]
  },
  {
   "cell_type": "markdown",
   "id": "0bc57bd0",
   "metadata": {},
   "source": [
    "\n",
    "3. Create add method to add two countries together. This method should create another country object with the name of the two countries combined and population of the two countries added together.\n",
    "```\n",
    "bosnia = Country('Bosnia', 10_000_000)\n",
    "herzegovina = Country('Herzegovina', 5_000_000)\n",
    "\n",
    "bosnia_herzegovina = bosnia.add(herzegovina)\n",
    "bosnia_herzegovina.population -> 15_000_000\n",
    "bosnia_herzegovina.name -> 'Bosnia Herzegovina'\n",
    "```\n"
   ]
  },
  {
   "cell_type": "code",
   "execution_count": 7,
   "id": "81bce2bf",
   "metadata": {},
   "outputs": [
    {
     "name": "stdout",
     "output_type": "stream",
     "text": [
      "Country: Bosnia with population 10\n",
      "Country: Herzegovina with population 20\n",
      "Country: Bosnia Herzegovina with population 30\n"
     ]
    }
   ],
   "source": [
    "class CountryAddSupport(Country):\n",
    "    def add(self, other):\n",
    "        new_name = self.name +' '+ other.name\n",
    "        # return CountryAddSupport(new_name, self.population + other.population)\n",
    "        \n",
    "        # this one event better\n",
    "        return type(self)(new_name, self.population + other.population)\n",
    "\n",
    "c1 = CountryAddSupport('Bosnia', 10)\n",
    "c2 = CountryAddSupport('Herzegovina', 20)\n",
    "print(c1)\n",
    "print(c2)\n",
    "\n",
    "c3 = c1.add(c2)\n",
    "print(c3)\n",
    "\n",
    "# but this will not work. Utilizing a magic __add__ method below.\n",
    "# c1 + c2"
   ]
  },
  {
   "cell_type": "markdown",
   "id": "cf980676",
   "metadata": {},
   "source": [
    "\n",
    "4. (Optional) Implement previous method with magic method\n",
    "\n",
    "```\n",
    "bosnia = Country('Bosnia', 10_000_000)\n",
    "herzegovina = Country('Herzegovina', 5_000_000)\n",
    "\n",
    "bosnia_herzegovina = bosnia + herzegovina\n",
    "bosnia_herzegovina.population -> 15_000_000\n",
    "bosnia_herzegovina.name -> 'Bosnia Herzegovina'\n",
    "```"
   ]
  },
  {
   "cell_type": "code",
   "execution_count": 9,
   "id": "8c3d6300",
   "metadata": {},
   "outputs": [
    {
     "name": "stdout",
     "output_type": "stream",
     "text": [
      "Country: Trinidad Tobago with population 145\n"
     ]
    }
   ],
   "source": [
    "class CountryAddSupportMagic(Country):\n",
    "    def __add__(self, other):\n",
    "        name = f'{self.name} {other.name}'\n",
    "        return type(self)(name, self.population + other.population)\n",
    "\n",
    "c1 = CountryAddSupportMagic('Trinidad', 45)\n",
    "c2 = CountryAddSupportMagic('Tobago', 100)\n",
    "\n",
    "c3 = c1 + c2\n",
    "print(c3)"
   ]
  }
 ],
 "metadata": {
  "kernelspec": {
   "display_name": "Python 3",
   "language": "python",
   "name": "python3"
  },
  "language_info": {
   "codemirror_mode": {
    "name": "ipython",
    "version": 3
   },
   "file_extension": ".py",
   "mimetype": "text/x-python",
   "name": "python",
   "nbconvert_exporter": "python",
   "pygments_lexer": "ipython3",
   "version": "3.11.0"
  },
  "vscode": {
   "interpreter": {
    "hash": "c261aea317cc0286b3b3261fbba9abdec21eaa57589985bb7a274bf54d6cc0a7"
   }
  }
 },
 "nbformat": 4,
 "nbformat_minor": 5
}
