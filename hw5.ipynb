{
 "cells": [
  {
   "cell_type": "markdown",
   "id": "90ce271f",
   "metadata": {},
   "source": [
    "### Practice section 1:\n",
    "\n",
    "1. Write a program that caluculate Fibonacci series. The Fibonacci series is a series of numbers in which each number is the sum of the two preceding numbers. The first two numbers are 1 and 1. The third number is 1 + 1 = 2, the fourth number is 1 + 2 = 3, and so on. Number of iterations should be taken from user input.\n"
   ]
  },
  {
   "cell_type": "code",
   "execution_count": 106,
   "id": "4e59843a",
   "metadata": {},
   "outputs": [],
   "source": [
    "def fib(length:int=3) -> list:\n",
    "    prev, curr = ls = [1, 1] # first two elements\n",
    "    if not isinstance(length, int) or length < 0:\n",
    "        print('Bad arg type')\n",
    "        return\n",
    "    if length < 3:\n",
    "        return ls[:length]\n",
    "    for i in range(2, length):\n",
    "        prev, curr = curr, prev+curr\n",
    "        ls.append(curr)\n",
    "    \n",
    "    return ls"
   ]
  },
  {
   "cell_type": "code",
   "execution_count": 109,
   "id": "f15a659b",
   "metadata": {},
   "outputs": [
    {
     "data": {
      "text/plain": [
       "[1, 1, 2]"
      ]
     },
     "execution_count": 109,
     "metadata": {},
     "output_type": "execute_result"
    }
   ],
   "source": [
    "fib(3)"
   ]
  },
  {
   "cell_type": "markdown",
   "id": "a8cc5373",
   "metadata": {},
   "source": [
    "### Practice section 2\n",
    "\n",
    "1. Write a program that iterated from 0 to 100 and prints out the number if it is divisible by 3.\n"
   ]
  },
  {
   "cell_type": "code",
   "execution_count": null,
   "id": "618d389d",
   "metadata": {},
   "outputs": [],
   "source": [
    "def print_divisible_by_3():\n",
    "    for i in range(101):\n",
    "        print(i) if i % 3 == 0 else None\n",
    "\n",
    "def print_divisible_by_3():\n",
    "    [print(i) for i in range(101) if i % 3 == 0]\n",
    "\n",
    "print_divisible_by_3()"
   ]
  },
  {
   "cell_type": "markdown",
   "id": "bd3c75d3",
   "metadata": {},
   "source": [
    "\n",
    "2. Get a number from user input and iterate from 0 to that number. \n",
    "    \n",
    "    1. Print 'foo' if the number is divisible by 3. \n",
    "    2. Print 'bar' if the number is divisible by 5. \n",
    "    3. Print 'foobar' if the number is divisible by both 3 and 5.\n"
   ]
  },
  {
   "cell_type": "code",
   "execution_count": 3,
   "id": "07053369",
   "metadata": {},
   "outputs": [
    {
     "name": "stdout",
     "output_type": "stream",
     "text": [
      "You have to enter a number\n"
     ]
    }
   ],
   "source": [
    "def func():\n",
    "\n",
    "    while (inp := input('Enter a number: ')).isdigit() == False:\n",
    "        print('You have to enter a number')\n",
    "    \n",
    "    number = int(inp)\n",
    "\n",
    "    if number % 3 == 0:\n",
    "        print('foo')\n",
    "    if number % 5 == 0:\n",
    "        print('bar')\n",
    "    if number % 5 == 0 and number % 3 == 0:\n",
    "        print('foobar')\n",
    "\n",
    "\n",
    "func()"
   ]
  },
  {
   "cell_type": "markdown",
   "id": "2678be48",
   "metadata": {},
   "source": [
    "## Practice block 3: \n",
    "\n",
    "1. Write a function called square() with one argument of int type and returns the value of that number raised to the second power.\n"
   ]
  },
  {
   "cell_type": "code",
   "execution_count": 20,
   "id": "7af10fdb",
   "metadata": {},
   "outputs": [],
   "source": [
    "def square(x: int) -> int:\n",
    "    return x ** 2"
   ]
  },
  {
   "cell_type": "code",
   "execution_count": 22,
   "id": "40fb9fb7",
   "metadata": {},
   "outputs": [
    {
     "data": {
      "text/plain": [
       "1"
      ]
     },
     "execution_count": 22,
     "metadata": {},
     "output_type": "execute_result"
    }
   ],
   "source": [
    "square(-1)"
   ]
  },
  {
   "cell_type": "markdown",
   "id": "cece037f",
   "metadata": {},
   "source": [
    "2. Write a program called convert_cel_to_fahr() that takes a temperature in Celsius and returns the equivalent temperature in Fahrenheit. It should take a number as an argument from user input and return a number to the console. \n"
   ]
  },
  {
   "cell_type": "code",
   "execution_count": 90,
   "id": "3bac113f",
   "metadata": {},
   "outputs": [],
   "source": [
    "def convert_cel_to_fahr():\n",
    "    while (t:= input('Enter a Celcius temp.: ')).isdigit() == False:\n",
    "        print('Enter a number')\n",
    "    result = int(t) * 1.8 + 32\n",
    "    print(result)"
   ]
  },
  {
   "cell_type": "code",
   "execution_count": 91,
   "id": "3160fdcd",
   "metadata": {},
   "outputs": [
    {
     "name": "stdout",
     "output_type": "stream",
     "text": [
      "113.0\n"
     ]
    }
   ],
   "source": [
    "convert_cel_to_fahr()"
   ]
  },
  {
   "cell_type": "markdown",
   "id": "066f74f0",
   "metadata": {},
   "source": [
    "3. Write a function that implement case swapping. It should return the same result as swapcase() method. Your function should accept one str argument and convert all lower case values to upper case and vice versa. \n",
    "```python\n",
    "def swapcase(input_string: str) -> str:\n",
    "    # do something\n",
    "\n",
    "print(swapcase('HelLo')) \n",
    "\n",
    "> 'hELlO\n",
    "```"
   ]
  },
  {
   "cell_type": "code",
   "execution_count": 7,
   "id": "e09c7991",
   "metadata": {},
   "outputs": [],
   "source": [
    "def swapcase(string: str) -> str:\n",
    "    return ''.join(\n",
    "        [i.upper() if i.islower() else i.lower() for i in string]\n",
    "    )\n"
   ]
  },
  {
   "cell_type": "code",
   "execution_count": 10,
   "id": "851e69d8",
   "metadata": {},
   "outputs": [
    {
     "data": {
      "text/plain": [
       "'IIii2_'"
      ]
     },
     "execution_count": 10,
     "metadata": {},
     "output_type": "execute_result"
    }
   ],
   "source": [
    "swapcase('iiII2_')"
   ]
  },
  {
   "cell_type": "markdown",
   "id": "76e27988",
   "metadata": {},
   "source": [
    "**Task 1**. Дискримінант. Створіть функцію з іменем **discriminant**.\\\n",
    "Функція повинна приймати на вхід a, b, c, choose. Де a, b, c - це аргументи функції, choose - опціональний параметр, вибору способу рішення(дискримінант або Вієта, 1 - disc, 2 - Вієта) \\\n",
    "Функція повинна повертати в залежності від параметрів один/два кореня або їх відсутність. \n",
    "\n",
    "Example:\\\n",
    "    **Input**: a = 5, b = -8, c = 3 \\\n",
    "    **Output**: x = 1, x = 0.6 \n",
    "Результати округлювати до 2 знаку. Функція повинна перевіряти тип аргументів(int повинен бути). "
   ]
  },
  {
   "cell_type": "code",
   "execution_count": null,
   "id": "b24a2c18",
   "metadata": {},
   "outputs": [],
   "source": [
    "# Крок 1: допустимі типи, isinstance, type, [int, float, bool]\n",
    "# Крок 2: Ділення на 0, etc....\n",
    "# Крок 3: без бібліотек!!!!\n",
    "# Крок 4: Оптимальність \n",
    "# Крок 5: перевірка назв \n",
    "# Крок 6: побітові операції + винагорода \n",
    "# Крок 7: Обмеженна 3 ступені\n",
    "# Крок 8: тільки цикли, функції, строки-числа, built-in-function(sum, len) можна\n",
    "*На листочку"
   ]
  },
  {
   "cell_type": "code",
   "execution_count": 84,
   "id": "b3c0bb44",
   "metadata": {},
   "outputs": [],
   "source": [
    "def discriminant(a: int, b: int, c: int, choose=1) -> list:\n",
    "    '''Args:\n",
    "        a, b, c: перший, другий коефіцієнти та свободний член\n",
    "        choose: 1 - знаходим корені,\n",
    "                2 - знаходимо корені і перевіряємо по Viete'''\n",
    "\n",
    "    if not (isinstance(a, (int, float, bool)) and\n",
    "            isinstance(b, (int, float, bool)) and\n",
    "            isinstance(c, (int, float, bool)) and\n",
    "            isinstance(choose, (int, float, bool))):\n",
    "        print('bad args')\n",
    "        return\n",
    "\n",
    "    D = b**2 - 4*a*c\n",
    "    # D = b<<1 - a*c<<2\n",
    "\n",
    "    if D > 0:\n",
    "        if a == 0:\n",
    "            x = -c/b\n",
    "            result = [x]\n",
    "        x1 = (-b - D**0.5)/(2*a)\n",
    "        # x1 = (-b - D**0.5)/(a<<1)\n",
    "        x2 = (-b + D**0.5)/(2*a)\n",
    "        # x2 = (-b + D**0.5)/(a<<1)\n",
    "        result = [x1, x2]\n",
    "\n",
    "    elif D == 0:\n",
    "        x = -b / (2*a)\n",
    "        # x = -b / (a<<1)\n",
    "        result = [x]\n",
    "        \n",
    "    else: # D < 0:\n",
    "        result = [None]\n",
    "    \n",
    "    if choose == 2 and result[0]: # Viete\n",
    "        # x1 + x2 = -b / a; x1 * x2 = c / a\n",
    "        print('Viete test:')\n",
    "        print('x1 + x2:', x1 + x2)\n",
    "        print('-b:', -b / a)\n",
    "        \n",
    "        assert (x1 + x2) == (-b / a)\n",
    "        print('x1 * x2:', x1 * x2)\n",
    "        print('c / a:', c / a)\n",
    "\n",
    "        assert (x1 * x2) == (c / a)\n",
    "    \n",
    "    return result\n",
    "\n",
    "# ❓\n",
    "# Чи має функція завжди видавати один тип, \n",
    "# наприклад, список, навіть, якщо може бути одне рішення або None?"
   ]
  },
  {
   "cell_type": "code",
   "execution_count": 86,
   "id": "da4e424a",
   "metadata": {},
   "outputs": [
    {
     "name": "stdout",
     "output_type": "stream",
     "text": [
      "Viete test:\n",
      "x1 + x2: -5.0\n",
      "-b: -5.0\n",
      "x1 * x2: 6.0\n",
      "c / a: 6.0\n"
     ]
    },
    {
     "data": {
      "text/plain": [
       "[-3.0, -2.0]"
      ]
     },
     "execution_count": 86,
     "metadata": {},
     "output_type": "execute_result"
    }
   ],
   "source": [
    "discriminant(1, 5, 6, 2)"
   ]
  }
 ],
 "metadata": {
  "kernelspec": {
   "display_name": "Python 3.11.0 64-bit",
   "language": "python",
   "name": "python3"
  },
  "language_info": {
   "codemirror_mode": {
    "name": "ipython",
    "version": 3
   },
   "file_extension": ".py",
   "mimetype": "text/x-python",
   "name": "python",
   "nbconvert_exporter": "python",
   "pygments_lexer": "ipython3",
   "version": "3.11.0"
  },
  "vscode": {
   "interpreter": {
    "hash": "c261aea317cc0286b3b3261fbba9abdec21eaa57589985bb7a274bf54d6cc0a7"
   }
  }
 },
 "nbformat": 4,
 "nbformat_minor": 5
}
