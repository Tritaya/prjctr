{
 "cells": [
  {
   "cell_type": "markdown",
   "id": "be92128a",
   "metadata": {},
   "source": [
    "Task 1. \n",
    "Given two non-negative integers low and high. Return the count of odd numbers between low and high (inclusive). \n",
    "\n",
    "Example 1:\n",
    "\n",
    "Input: low = 3, high = 7\n",
    "Output: 3\n",
    "Explanation: The odd numbers between 3 and 7 are [3,5,7].\n",
    "Example 2:\n",
    "\n",
    "Input: low = 8, high = 10\n",
    "Output: 1\n",
    "Explanation: The odd numbers between 8 and 10 are [9]."
   ]
  },
  {
   "cell_type": "code",
   "execution_count": 7,
   "id": "666cd53e",
   "metadata": {},
   "outputs": [
    {
     "name": "stdout",
     "output_type": "stream",
     "text": [
      "3\n",
      "1\n"
     ]
    }
   ],
   "source": [
    "def count_odd(low: int, hi: int) -> int:\n",
    "    # get series [low..hi]\n",
    "    ser = set(range(low, hi+1))\n",
    "    # new series with only odd\n",
    "    odds = [i for i in ser if i % 2 == 1]\n",
    "    # count\n",
    "    return len(odds)\n",
    "\n",
    "# method 2\n",
    "def count_odd_math(low: int, hi: int) -> int:\n",
    "    # get count of members in range boundaries [low..hi]\n",
    "    count = hi - low +1 \n",
    "    # 1..2 -> count / 2 (for even counts)\n",
    "    # 1..3 -> count // 2 + 1 (for odd counts if starts with odd)\n",
    "    # 2..4 -> count // 2 (for odd counts if starts with even)\n",
    "    if count % 2 == 0:\n",
    "        return count / 2\n",
    "    if count % 2 == 1:\n",
    "        if low % 2 == 1:\n",
    "            return count // 2 +1\n",
    "        else:\n",
    "            return count // 2\n",
    "\n",
    "# method 3     \n",
    "def count_odd_math_2(low: int, hi: int) -> int:\n",
    "    # get count of members in range boundaries [low..hi]\n",
    "    count = hi - low +1 \n",
    "    # 1..2 -> count / 2 (for even counts)\n",
    "    # 1..3 -> count // 2 + 1 (for odd counts if starts with odd)\n",
    "    # 2..4 -> count // 2 (for odd counts if starts with even)\n",
    "    # more tricky and concise, i like this solution\n",
    "    if count % 2 == 0:\n",
    "        return count / 2\n",
    "    else:\n",
    "        return count // 2 + low % 2\n",
    "\n",
    "     \n",
    "\n",
    "def test(fn):\n",
    "    assert fn(3, 7) == 3\n",
    "    assert fn(8, 10) == 1\n",
    "\n",
    "test(count_odd)\n",
    "test(count_odd_math)\n",
    "test(count_odd_math_2)"
   ]
  },
  {
   "cell_type": "markdown",
   "id": "936b6b30",
   "metadata": {},
   "source": [
    "Task 2.\n",
    "You are given an array of unique integers salary where salary[i] is the salary of the ith employee.\n",
    "\n",
    "Return the average salary of employees excluding the minimum and maximum salary. \n",
    " \n",
    "Example 1:\n",
    "\n",
    "Input: salary = [4000,3000,1000,2000]\n",
    "Output: 2500.00000\n",
    "Explanation: Minimum salary and maximum salary are 1000 and 4000 respectively.\n",
    "Average salary excluding minimum and maximum salary is (2000+3000) / 2 = 2500\n",
    "Example 2:\n",
    "\n",
    "Input: salary = [1000,2000,3000]\n",
    "Output: 2000.00000\n",
    "Explanation: Minimum salary and maximum salary are 1000 and 3000 respectively.\n",
    "Average salary excluding minimum and maximum salary is (2000) / 1 = 2000"
   ]
  },
  {
   "cell_type": "code",
   "execution_count": 97,
   "id": "cf63d577",
   "metadata": {},
   "outputs": [],
   "source": [
    "# це зробили на під час вебінару\n",
    "def average(salary: list[int]) -> float:\n",
    "        salary = sorted(salary)\n",
    "        return sum(salary[1:len(salary) - 1:]) /  (len(salary) - 2)"
   ]
  },
  {
   "cell_type": "markdown",
   "id": "3d80d2c3",
   "metadata": {},
   "source": [
    "###  Practice 1:\n",
    "\n",
    "1. Create emtpy dictionary named en_ua_dictionary.\n"
   ]
  },
  {
   "cell_type": "code",
   "execution_count": 87,
   "id": "d758d1e7",
   "metadata": {},
   "outputs": [],
   "source": [
    "en_ua_dictionary = {}"
   ]
  },
  {
   "cell_type": "markdown",
   "id": "8ec1d413",
   "metadata": {},
   "source": [
    "2. Add few key-value pairs to the dictionary. Example: 'red': 'червоний'\n"
   ]
  },
  {
   "cell_type": "code",
   "execution_count": 149,
   "id": "9d113fcb",
   "metadata": {},
   "outputs": [],
   "source": [
    "en_ua_dictionary['frozen'] = 'замороджений'\n",
    "en_ua_dictionary['chicken'] = 'курча'\n",
    "en_ua_dictionary['pig'] = 'порося'\n",
    "en_ua_dictionary['ice'] = 'крига'"
   ]
  },
  {
   "cell_type": "markdown",
   "id": "a80ca625",
   "metadata": {},
   "source": [
    "3. Check if the dictionary contains key 'blue' and 'purple'. If not, set their values to unknown.\n"
   ]
  },
  {
   "cell_type": "code",
   "execution_count": 150,
   "id": "be526152",
   "metadata": {},
   "outputs": [
    {
     "name": "stdout",
     "output_type": "stream",
     "text": [
      "True\n",
      "True\n"
     ]
    }
   ],
   "source": [
    "print('blue' in en_ua_dictionary)\n",
    "print('purple' in en_ua_dictionary)\n",
    "\n",
    "en_ua_dictionary['blue'] = 'unknown'\n",
    "en_ua_dictionary['purple'] = 'unknown'\n"
   ]
  },
  {
   "cell_type": "markdown",
   "id": "00b87add",
   "metadata": {},
   "source": [
    "4. Create a loop over existing values and print them to the console in the following format:\n",
    "    ```\n",
    "    Red in Ukrainian is червоний\n",
    "    ```\n"
   ]
  },
  {
   "cell_type": "code",
   "execution_count": 151,
   "id": "97879784",
   "metadata": {},
   "outputs": [
    {
     "name": "stdout",
     "output_type": "stream",
     "text": [
      "Frozen in Ukrainian is замороджений\n",
      "Pig in Ukrainian is порося\n",
      "Blue in Ukrainian is unknown\n",
      "Purple in Ukrainian is unknown\n",
      "Chicken in Ukrainian is курча\n",
      "Ice in Ukrainian is крига\n"
     ]
    }
   ],
   "source": [
    "for key, value in en_ua_dictionary.items():\n",
    "    print('{} in Ukrainian is {}'.format(key.title(), value))"
   ]
  },
  {
   "cell_type": "markdown",
   "id": "a697b988",
   "metadata": {},
   "source": [
    "5. Delete all key-values pairs from the dictionary if the lenght of value is lower than 5.\n",
    "\n"
   ]
  },
  {
   "cell_type": "code",
   "execution_count": 152,
   "id": "e540fa54",
   "metadata": {},
   "outputs": [
    {
     "name": "stdout",
     "output_type": "stream",
     "text": [
      "{'frozen': 'замороджений', 'pig': 'порося', 'blue': 'unknown', 'purple': 'unknown'}\n",
      "{'frozen': 'замороджений', 'pig': 'порося', 'blue': 'unknown', 'purple': 'unknown', 'chicken': 'курча', 'ice': 'крига'}\n",
      "{'frozen': 'замороджений', 'pig': 'порося', 'blue': 'unknown', 'purple': 'unknown'}\n"
     ]
    },
    {
     "data": {
      "text/plain": [
       "True"
      ]
     },
     "execution_count": 152,
     "metadata": {},
     "output_type": "execute_result"
    }
   ],
   "source": [
    "en_ua_dictionary_copy = en_ua_dictionary.copy()\n",
    "\n",
    "for k, v in list(en_ua_dictionary.items()):\n",
    "    if len(v) <= 5:\n",
    "        del en_ua_dictionary[k]\n",
    "\n",
    "print(en_ua_dictionary)\n",
    "\n",
    "# alternatively\n",
    "print(en_ua_dictionary_copy)\n",
    "\n",
    "new_dict = {k:v for k,v in en_ua_dictionary_copy.items() if len(v) > 5}\n",
    "print(new_dict)\n",
    "\n",
    "new_dict == en_ua_dictionary"
   ]
  },
  {
   "cell_type": "markdown",
   "id": "ace20a26",
   "metadata": {},
   "source": [
    "6. Write a game where user should guess of a capital of the country that you have in your dictionary.\n",
    "\n",
    "    capitals = {\n",
    "        'Ukraine': 'Kyiv',\n",
    "        'France': 'Paris',\n",
    "        'Germany': 'Berlin',\n",
    "        'Italy': 'Rome',\n",
    "        'USA': 'Washington',\n",
    "        'Canada': 'Ottawa',\n",
    "        'Switzerland': 'Bern',\n",
    "        'Austria': 'Vienna',\n",
    "        'Belgium': 'Brussels',\n",
    "        'Sweden': 'Stockholm',\n",
    "        'Norway': 'Oslo',\n",
    "        'Denmark': 'Copenhagen',\n",
    "        'Finland': 'Helsinki',\n",
    "        'Poland': 'Warsaw',\n",
    "        'Romania': 'Bucharest',\n",
    "        'Bulgaria': 'Sofia',\n",
    "        'Greece': 'Athens',\n",
    "        ...\n",
    "    }\n",
    "\n",
    "    You should show user a random country from the list and ask him to guess the capital. If user input right capital, print \"You are right!\", add him a point and ask him to guess another country. If not, you should ask again. User should be able to quit the game by typing \"exit\".\n",
    "    You should print current score after each round. Also, you should print the final score before user quit the game.\n",
    "\n",
    "\n",
    "    Optional: \n",
    "    1. Give user a hint if he guesses wrong. Hint should looks like first letter of the capital. If you user make another mistake, you should print one more letter from the capital.\n",
    "\n",
    "    2. If user make a mistake you should decrement his lives. Initial amount of lives is 3. Game will end when user has no lives left. You should print the final score after user has no lives left."
   ]
  },
  {
   "cell_type": "code",
   "execution_count": 52,
   "id": "d274d6fb",
   "metadata": {},
   "outputs": [
    {
     "name": "stdout",
     "output_type": "stream",
     "text": [
      "Your score is: 0\n",
      "You have     2     lives!\n",
      "Your score is: 0\n",
      "You have     1     lives!\n",
      "You are right!\n",
      "Your score is: 1\n",
      "You have     1     lives!\n",
      "Your score is: 1\n",
      "You have     0     lives!\n",
      "You are right!\n",
      "Your score is: 2\n",
      "You have     0     lives!\n",
      "You are dead! Game Over\n",
      "Your final score is: 2\n"
     ]
    }
   ],
   "source": [
    "import random\n",
    "capitals = {\n",
    "    'Ukraine': 'Kyiv',\n",
    "    'France': 'Paris',\n",
    "    'Germany': 'Berlin',\n",
    "    'Italy': 'Rome',\n",
    "    'USA': 'Washington',\n",
    "    'Canada': 'Ottawa',\n",
    "    'Switzerland': 'Bern',\n",
    "    'Austria': 'Vienna',\n",
    "    'Belgium': 'Brussels',\n",
    "    'Sweden': 'Stockholm',\n",
    "    'Norway': 'Oslo',\n",
    "    'Denmark': 'Copenhagen',\n",
    "    'Finland': 'Helsinki',\n",
    "    'Poland': 'Warsaw',\n",
    "    'Romania': 'Bucharest',\n",
    "    'Bulgaria': 'Sofia',\n",
    "    'Greece': 'Athens',\n",
    "    }\n",
    "\n",
    "def get_random_country() -> str:\n",
    "    return random.choice(tuple(capitals))\n",
    "\n",
    "def ask(country=get_random_country()) -> tuple:\n",
    "    x = input(f'What is the capital of {country}')\n",
    "    return country, x\n",
    "\n",
    "def compare(country, x) -> bool:\n",
    "    return capitals[country] == x\n",
    "\n",
    "def show(score, final=False):\n",
    "    if not final:\n",
    "        print(f'Your score is: {score}')\n",
    "    else:\n",
    "        print(f'Your final score is: {score}')\n",
    "\n",
    "def show_lives(lives):\n",
    "    print(f'You have {lives:^9} lives!')\n",
    "\n",
    "\n",
    "\n",
    "\n",
    "def main():\n",
    "    score = 0\n",
    "    lives = 3\n",
    "    mistakes = 0\n",
    "    while True:\n",
    "        country, guessed_capital = answer = ask(get_random_country())\n",
    "        if answer[1] == 'exit':\n",
    "            show(score, final=True)\n",
    "            break\n",
    "        if compare(*answer):            # right answer\n",
    "            score+=1\n",
    "            print('You are right!')\n",
    "            show(score)\n",
    "            show_lives(lives)\n",
    "        else:                           # wrong answer\n",
    "            lives-=1\n",
    "            mistakes+=1\n",
    "            # print('You are wrong, let\\'s try another country')\n",
    "            \n",
    "            if lives == -1:\n",
    "                print('You are dead! Game Over')\n",
    "                show(score, final=True)\n",
    "                break\n",
    "            show(score)\n",
    "            show_lives(lives)\n",
    "\n",
    "main()\n",
    "    "
   ]
  },
  {
   "cell_type": "markdown",
   "id": "8a4fadac",
   "metadata": {},
   "source": [
    "### нижче варіант в роботі Optional\n",
    "### Дуже складна процедура виходить, не працює як надо, прошу підказку"
   ]
  },
  {
   "cell_type": "code",
   "execution_count": 53,
   "id": "f6ba9f87",
   "metadata": {},
   "outputs": [
    {
     "name": "stdout",
     "output_type": "stream",
     "text": [
      "You are wrong but here is a hint:\n",
      "The capital starts with: B\n",
      "You are wrong but here is a hint:\n",
      "The capital starts with: Br\n",
      "Nice!\n",
      "Your score is: 0\n",
      "You have     2     lives!\n",
      "Your final score is: 0\n"
     ]
    }
   ],
   "source": [
    "import random\n",
    "capitals = {\n",
    "    'Ukraine': 'Kyiv',\n",
    "    'France': 'Paris',\n",
    "    'Germany': 'Berlin',\n",
    "    'Italy': 'Rome',\n",
    "    'USA': 'Washington',\n",
    "    'Canada': 'Ottawa',\n",
    "    'Switzerland': 'Bern',\n",
    "    'Austria': 'Vienna',\n",
    "    'Belgium': 'Brussels',\n",
    "    'Sweden': 'Stockholm',\n",
    "    'Norway': 'Oslo',\n",
    "    'Denmark': 'Copenhagen',\n",
    "    'Finland': 'Helsinki',\n",
    "    'Poland': 'Warsaw',\n",
    "    'Romania': 'Bucharest',\n",
    "    'Bulgaria': 'Sofia',\n",
    "    'Greece': 'Athens',\n",
    "    }\n",
    "\n",
    "def get_random_country() -> str:\n",
    "    return random.choice(tuple(capitals))\n",
    "\n",
    "def ask(country=get_random_country()) -> tuple:\n",
    "    x = input(f'What is the capital of {country}')\n",
    "    return country, x\n",
    "\n",
    "def compare(country, x) -> bool:\n",
    "    return capitals[country] == x\n",
    "\n",
    "def show(score, final=False):\n",
    "    if not final:\n",
    "        print(f'Your score is: {score}')\n",
    "    else:\n",
    "        print(f'Your final score is: {score}')\n",
    "\n",
    "def show_lives(lives):\n",
    "    print(f'You have {lives:^9} lives!')\n",
    "\n",
    "def show_hint(country, mistakes=1):\n",
    "        print('You are wrong, but here is a hint: ')\n",
    "        print(capitals[country][:mistakes])\n",
    "\n",
    "def game_over(score):\n",
    "    print('You are dead! Game Over')\n",
    "    show(score, final=True)\n",
    "\n",
    "def guess_second_time(country, score, mistakes, lives):\n",
    "    capital = capitals[country]\n",
    "    print('You are wrong but here is a hint:')\n",
    "    print(f\"The capital starts with: {capital[:mistakes]}\")\n",
    "    country, guessed = answer = ask(country)\n",
    "    if compare(*answer):    # right answer\n",
    "        print('Nice!')\n",
    "        score, mistakes, lives = update(score=score, mistakes=mistakes, lives=lives)\n",
    "        return score, mistakes, lives\n",
    "    else:                   # wrong answer\n",
    "        score, mistakes, lives = update(score=score, mistakes=mistakes, lives=lives, \n",
    "                                        guessed=False)\n",
    "        if lives < 0:\n",
    "            game_over(score)\n",
    "            return score, mistakes, lives\n",
    "        if mistakes >= len(capital):\n",
    "            return score, mistakes, lives\n",
    "        return guess_second_time(country, score, mistakes, lives)\n",
    "\n",
    "def update(score=0, mistakes=0, lives=3, guessed=True):\n",
    "    if guessed:\n",
    "        score+=1\n",
    "    else:\n",
    "        mistakes+=1\n",
    "        lives-=1\n",
    "        if lives < 0:\n",
    "            game_over(score)\n",
    "    return score, mistakes, lives\n",
    "\n",
    "\n",
    "\n",
    "def main():\n",
    "    score = 0\n",
    "    lives = 3\n",
    "    mistakes = 0\n",
    "    while True:\n",
    "        country, guessed_capital = answer = ask(get_random_country())\n",
    "        if answer[1] == 'exit':\n",
    "            show(score, final=True)\n",
    "            break\n",
    "        if compare(*answer):            # right answer\n",
    "            score, mistakes, lives = update(score=score, mistakes=mistakes, lives=lives)\n",
    "            print('You are right!')\n",
    "            show(score)\n",
    "        else:                           # wrong answer\n",
    "            score, mistakes, lives = update(score=score, \n",
    "                                    mistakes=mistakes, \n",
    "                                    lives=lives, guessed=False)\n",
    "            guess_second_time(country=country, score=score, mistakes=mistakes, lives=lives)\n",
    "            # score += guess_second_time(country=country, score, mistakes, lives)\n",
    "            \n",
    "\n",
    "            if lives < 0:\n",
    "                print('You are dead! Game Over')\n",
    "                show(score, final=True)\n",
    "                break\n",
    "            show(score)\n",
    "            show_lives(lives)\n",
    "        \n",
    "\n",
    "\n",
    "main()\n",
    "# update()\n",
    "\n",
    "# guess_second_time('Canada')\n",
    "    "
   ]
  },
  {
   "cell_type": "markdown",
   "id": "e3d2a602",
   "metadata": {},
   "source": [
    "**Optional**\n",
    "\n",
    "Roman numerals are represented by seven different symbols: I, V, X, L, C, D and M.\n",
    "\n",
    "    Symbol       Value\n",
    "    I             1\n",
    "    V             5\n",
    "    X             10\n",
    "    L             50\n",
    "    C             100\n",
    "    D             500\n",
    "    M             1000\n",
    "\n",
    "For example, 2 is written as II in Roman numeral, just two ones added together. 12 is written as XII, which is simply X + II. The number 27 is written as XXVII, which is XX + V + II.\n",
    "\n",
    "Roman numerals are usually written largest to smallest from left to right. However, the numeral for four is not IIII. Instead, the number four is written as IV. Because the one is before the five we subtract it making four. The same principle applies to the number nine, which is written as IX. There are six instances where subtraction is used:\n",
    "\n",
    "    * I can be placed before V (5) and X (10) to make 4 and 9. \n",
    "    * X can be placed before L (50) and C (100) to make 40 and 90. \n",
    "    * can be placed before D (500) and M (1000) to make 400 and 900.\n",
    "\n",
    "Given a roman numeral, convert it to an integer.\n",
    "\n",
    "    Example 1:\n",
    "\n",
    "    Input: s = \"III\"\n",
    "    Output: 3\n",
    "    Explanation: III = 3.\n",
    "\n",
    "    Example 2:\n",
    "\n",
    "    Input: s = \"LVIII\"\n",
    "    Output: 58\n",
    "    Explanation: L = 50, V= 5, III = 3.\n",
    "\n",
    "    Example 3:\n",
    "\n",
    "    Input: s = \"MCMXCIV\"\n",
    "    Output: 1994\n",
    "    Explanation: M = 1000, CM = 900, XC = 90 and IV = 4.\n",
    "\n"
   ]
  },
  {
   "cell_type": "code",
   "execution_count": 65,
   "id": "78979916",
   "metadata": {},
   "outputs": [],
   "source": [
    "\n",
    "def roman_to_int(s: str) -> int:\n",
    "    trans = {\n",
    "        'I':             1,\n",
    "        'V':             5,\n",
    "        'X':             10,\n",
    "        'L':             50,\n",
    "        'C':             100,\n",
    "        'D':             500,\n",
    "        'M':             1000,\n",
    "    }\n",
    "\n",
    "    converted = [trans[i] for i in s] # MIV -> 50, 1, 5\n",
    "    cum = 0\n",
    "    for i in range(len(converted)-1):\n",
    "        if converted[i] >= converted[i+1]:    # додаємо, якщо наступний член менше поточного\n",
    "            cum += converted[i]\n",
    "        else:\n",
    "            cum -= converted[i]        # віднімаємо, якщо наступний член більше поточного\n",
    "    cum += converted[-1]\n",
    "\n",
    "    return cum\n",
    "\n"
   ]
  },
  {
   "cell_type": "code",
   "execution_count": 66,
   "id": "e857006d",
   "metadata": {},
   "outputs": [],
   "source": [
    "def test_roman_to_int():\n",
    "    result1 = roman_to_int(\"III\")\n",
    "    assert result1 == 3\n",
    "\n",
    "    result1 = roman_to_int(\"LVIII\")\n",
    "    assert result1 == 58\n",
    "\n",
    "    result1 = roman_to_int(\"MCMXCIV\")\n",
    "    assert result1 == 1994\n",
    "\n",
    "test_roman_to_int()"
   ]
  },
  {
   "cell_type": "markdown",
   "id": "1966e0fd",
   "metadata": {},
   "source": [
    "\n",
    "Constraints:\n",
    "\n",
    "    1 <= s.length <= 15\n",
    "    s contains only the characters ('I', 'V', 'X', 'L', 'C', 'D', 'M').\n",
    "    It is guaranteed that s is a valid roman numeral in the range [1, 3999].\n",
    "\n",
    "\n",
    "**Optional**\n",
    "\n",
    "Try to create a function that will do reverse operation - from integer to roman\n",
    "\n",
    "```python\n",
    "def int_to_roman(s: str) -> int:\n",
    "    # write your code here\n",
    "\n",
    "def test_int_to_roman():\n",
    "    result1 = int_to_roman(3)\n",
    "    assert result1 == \"III\"\n",
    "\n",
    "    result1 = int_to_roman(58)\n",
    "    assert result1 == \"LVIII\"\n",
    "\n",
    "    result1 = int_to_roman(1994)\n",
    "    assert result1 == \"MCMXCIV\"\n",
    "```\n"
   ]
  },
  {
   "cell_type": "code",
   "execution_count": 114,
   "id": "60970fdc",
   "metadata": {},
   "outputs": [
    {
     "name": "stdout",
     "output_type": "stream",
     "text": [
      "{1: 'I', 5: 'V', 10: 'X', 50: 'L', 100: 'C', 500: 'D', 1000: 'M'}\n"
     ]
    }
   ],
   "source": [
    "ints_rom = {v:k for k, v in trans.items()}\n",
    "\n",
    "def int_to_roman(number: int = 2739) -> str:\n",
    "# def int_to_roman(number: int = 2734) -> str:\n",
    "    romans = 'MDCLXVI' \n",
    "    ser = [\n",
    "    ints_rom[1000] * (number // 1000),\n",
    "    ints_rom[500] * (number % 1000 // 500),\n",
    "    ints_rom[100] * (number % 500 // 100),\n",
    "    ints_rom[50] * (number % 100 // 50),\n",
    "    ints_rom[10] * (number % 50 // 10),\n",
    "    ints_rom[5] * (number % 10 // 5),\n",
    "    ints_rom[1] * (number % 5 // 1),\n",
    "    ]\n",
    "    # print(ser) \n",
    "\n",
    "    # solving IIII -> IV and similar problem\n",
    "    ser2 = [i[0]+romans[romans.find(i[0])-1] if len(i) > 3 else i for i in ser]\n",
    "    # print(ser2)\n",
    "    res = ''.join(ser2)\n",
    "\n",
    "    # solving VIV -> IX and similar problem\n",
    "    res = res.replace('DCD', 'CM')\n",
    "    res = res.replace('LXL', 'XC')\n",
    "    res = res.replace('VIV', 'IX')\n",
    "    # print(res)\n",
    "    return res\n",
    "\n",
    "int_to_roman()\n",
    "\n",
    "print(ints_rom)"
   ]
  },
  {
   "cell_type": "code",
   "execution_count": 115,
   "id": "2b15797c",
   "metadata": {},
   "outputs": [],
   "source": [
    "\n",
    "def test_int_to_roman():\n",
    "    result1 = int_to_roman(3)\n",
    "    assert result1 == \"III\"\n",
    "\n",
    "    result1 = int_to_roman(58)\n",
    "    assert result1 == \"LVIII\"\n",
    "\n",
    "    result1 = int_to_roman(1994)\n",
    "    assert result1 == \"MCMXCIV\"\n",
    "\n",
    "test_int_to_roman()"
   ]
  },
  {
   "cell_type": "markdown",
   "id": "07db0002",
   "metadata": {},
   "source": [
    "**Optional**\n",
    "\n",
    "Write an algorithm to determine if a number n is happy.\n",
    "\n",
    "A happy number is a number defined by the following process:\n",
    "\n",
    "    Starting with any positive integer, replace the number by the sum of the squares of its digits.\n",
    "    Repeat the process until the number equals 1 (where it will stay), or it loops endlessly in a cycle which does not include 1.\n",
    "    Those numbers for which this process ends in 1 are happy.\n",
    "\n"
   ]
  },
  {
   "cell_type": "markdown",
   "id": "035cb263",
   "metadata": {},
   "source": [
    "Return true if n is a happy number, and false if not.\n",
    "\n",
    "    Example 1:\n",
    "\n",
    "    Input: n = 19\n",
    "    Output: true\n",
    "\n",
    "    Explanation:\n",
    "    12 + 92 = 82\n",
    "    82 + 22 = 68\n",
    "    62 + 82 = 100\n",
    "    12 + 02 + 02 = 1\n",
    "\n",
    "    Example 2:\n",
    "\n",
    "    Input: n = 2\n",
    "    Output: false\n",
    "\n",
    "Constraints:\n",
    "\n",
    "    1 <= n <= 231 - 1\n",
    "\n",
    "\n",
    "```python\n"
   ]
  },
  {
   "cell_type": "code",
   "execution_count": 135,
   "id": "a380232a",
   "metadata": {},
   "outputs": [
    {
     "data": {
      "text/plain": [
       "True"
      ]
     },
     "execution_count": 135,
     "metadata": {},
     "output_type": "execute_result"
    }
   ],
   "source": [
    "def is_happy(n: int = 19) -> bool:\n",
    "    \n",
    "    def sum_of_squares(num: int) -> int:\n",
    "        digits = list(str(num))\n",
    "        return sum([int(i)**2 for i in digits])\n",
    "\n",
    "    new_num = n\n",
    "    for i in range(300):\n",
    "        new_num = sum_of_squares(new_num)\n",
    "        # print(new_num)\n",
    "        if new_num == 1:\n",
    "            return True\n",
    "\n",
    "    return False\n",
    "\n",
    "is_happy()"
   ]
  },
  {
   "cell_type": "code",
   "execution_count": 136,
   "id": "d6e9bbbf",
   "metadata": {},
   "outputs": [],
   "source": [
    "\n",
    "def test_is_happy():\n",
    "    result1 = is_happy(19)\n",
    "    assert result1 is True\n",
    "\n",
    "    result1 = is_happy(2)\n",
    "    assert result1 is False\n",
    "\n",
    "test_is_happy()\n"
   ]
  },
  {
   "cell_type": "markdown",
   "id": "ee1f650f",
   "metadata": {},
   "source": [
    "\n",
    "```\n",
    "Given a string s, find the length of the longest substring without repeating characters.\n",
    "\n",
    "    Example 1:\n",
    "\n",
    "    Input: s = \"abcabcbb\"\n",
    "    Output: 3\n",
    "    Explanation: The answer is \"abc\", with the length of 3.\n",
    "\n",
    "    Example 2:\n",
    "\n",
    "    Input: s = \"bbbbb\"\n",
    "    Output: 1\n",
    "    Explanation: The answer is \"b\", with the length of 1.\n",
    "\n",
    "    Example 3:\n",
    "\n",
    "    Input: s = \"pwwkew\"\n",
    "    Output: 3\n",
    "    Explanation: The answer is \"wke\", with the length of 3.\n",
    "    Notice that the answer must be a substring, \"pwke\" is a subsequence and not a substring.\n",
    "\n",
    "Constraints:\n",
    "\n",
    "    0 <= s.length <= 5 * 104\n",
    "    s consists of English letters, digits, symbols and spaces.\n",
    "\n",
    "```python\n",
    "    "
   ]
  },
  {
   "cell_type": "code",
   "execution_count": 158,
   "id": "b3ef1777",
   "metadata": {},
   "outputs": [
    {
     "data": {
      "text/plain": [
       "5"
      ]
     },
     "execution_count": 158,
     "metadata": {},
     "output_type": "execute_result"
    }
   ],
   "source": [
    "def length_of_longest_substring(s: str = 'abcdas') -> int:\n",
    "        def first_substring_from(string = 'abcda'):\n",
    "                s = ''\n",
    "                for i in string:\n",
    "                        if i not in s:\n",
    "                                s += i\n",
    "                        else:\n",
    "                                break\n",
    "                return s\n",
    "        all_subs = []\n",
    "        for i in range(len(s)):\n",
    "                sub = first_substring_from(s[i:])\n",
    "                # print(sub)\n",
    "                all_subs.append(sub)\n",
    "        longest = sorted(all_subs, key=len)[-1]\n",
    "        return len(longest)\n",
    "\n",
    "length_of_longest_substring()"
   ]
  },
  {
   "cell_type": "code",
   "execution_count": 159,
   "id": "31bacf91",
   "metadata": {},
   "outputs": [],
   "source": [
    "\n",
    "\n",
    "def test_length_of_longest_substring():\n",
    "    result1 = length_of_longest_substring('abcabcabc')\n",
    "    assert result1 == 3\n",
    "\n",
    "    result2 = length_of_longest_substring('bbbbb')\n",
    "    assert result2 == 1\n",
    "\n",
    "    result3 = length_of_longest_substring(\"pwwkew\")\n",
    "    assert result3 == 3\n",
    "\n",
    "test_length_of_longest_substring()"
   ]
  },
  {
   "cell_type": "markdown",
   "id": "d95b54b4",
   "metadata": {},
   "source": [
    "## Set/frozenset \n",
    "**Set** - змінна, неупорядкована колекція унікальних елементів \\\n",
    "**Frozenset** - незмінна, неупорядкована колекція унікальних елементів"
   ]
  },
  {
   "cell_type": "markdown",
   "id": "f20d3154",
   "metadata": {},
   "source": [
    "Task 5. **RLE** \\\n",
    "Given a string of letters (without numbers), create a string encoding it by the rules where the first character is char itself, followed by a number indicating the number of letter repeats.\n",
    "\n",
    "Examples:\n",
    "\n",
    "ABBA => A1B2A1\n",
    "ATTTGC => A1T3G1C1\n"
   ]
  },
  {
   "cell_type": "code",
   "execution_count": 84,
   "id": "8dc3b03f",
   "metadata": {},
   "outputs": [
    {
     "name": "stdout",
     "output_type": "stream",
     "text": [
      "['a', 'bb', 'aa', 'ccc']\n",
      "['a', 'bb', 'a']\n",
      "['a', 'ttt', 'g', 'c']\n"
     ]
    }
   ],
   "source": [
    "# WRONG\n",
    "# def rle(s: str) -> str:\n",
    "#     # set of letters\n",
    "#     letters = set(s)\n",
    "#     letters = sorted(letters, key=s.find) # we have to preserve the order of characters in the set\n",
    "#     print(type(letters))\n",
    "#     # count every item from the set in the string\n",
    "#     # concat letter:count -> series\n",
    "#     result = ''\n",
    "#     for i in letters:\n",
    "#         result += i + str(s.count(i))\n",
    "#     return result\n",
    "\n",
    "# method 1\n",
    "def rle(s: str) -> str:\n",
    "    # let input is 'abbccca'\n",
    "    curr = s[0] # first letter -> 'a'\n",
    "    chunks = [''] # -> ['a', 'bb', 'ccc', 'a']\n",
    "    \n",
    "    for i in s:\n",
    "        if i != curr:\n",
    "            chunks.append(i)\n",
    "            curr = i\n",
    "        else:\n",
    "            chunks[-1]+=i\n",
    "\n",
    "    # ['a', 'bb', 'ccc', 'a'] -> a1 + b2 + c3 + a1\n",
    "    result = ''\n",
    "    for i in chunks:\n",
    "        result += i[0] + str(len(i))\n",
    "\n",
    "    return result\n",
    "\n",
    "# method 2 - more concise\n",
    "def rle(s: str) -> str:\n",
    "    # let input is 'abbccca'\n",
    "    chunks = [[None]] # -> ['a', 'bb', 'ccc', 'a']\n",
    "    \n",
    "    for i in s:\n",
    "        if i == chunks[-1][0]:\n",
    "            chunks[-1] += i\n",
    "        else:\n",
    "            chunks.append(i)\n",
    "    chunks.pop(0) # removing the first element which is [None]\n",
    "    print(chunks)\n",
    "    # ['a', 'bb', 'ccc', 'a'] -> a1 + b2 + c3 + a1\n",
    "    result = ''\n",
    "    for i in chunks:\n",
    "        result += i[0] + str(len(i))\n",
    "\n",
    "    return result\n",
    "\n",
    "\n",
    "rle('abbaaccc')  \n",
    "\n",
    "def test(fn):\n",
    "    assert fn('abba') == 'a1b2a1'\n",
    "    assert fn('atttgc') == 'a1t3g1c1'\n",
    "\n",
    "test(rle)"
   ]
  }
 ],
 "metadata": {
  "kernelspec": {
   "display_name": "Python 3.11.0 64-bit",
   "language": "python",
   "name": "python3"
  },
  "language_info": {
   "codemirror_mode": {
    "name": "ipython",
    "version": 3
   },
   "file_extension": ".py",
   "mimetype": "text/x-python",
   "name": "python",
   "nbconvert_exporter": "python",
   "pygments_lexer": "ipython3",
   "version": "3.11.0"
  },
  "vscode": {
   "interpreter": {
    "hash": "c261aea317cc0286b3b3261fbba9abdec21eaa57589985bb7a274bf54d6cc0a7"
   }
  }
 },
 "nbformat": 4,
 "nbformat_minor": 5
}
