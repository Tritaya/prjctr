{
 "cells": [
  {
   "cell_type": "markdown",
   "id": "01f1c393",
   "metadata": {},
   "source": [
    "### Task 1. \n",
    "Створити два списка, number, square, користувач вводить перший список(з консолі),\n",
    "після цього ми повертаемо квадрат до кожного числа. \n",
    "* Обгорнути все в функцію з анотацією\n",
    "* Написати функцію з тестами\n",
    "* Використати try/except \\\n",
    "Example: \n",
    "[1,2,3,4,5] -> [1, 4, 9, 16, 25] "
   ]
  },
  {
   "cell_type": "code",
   "execution_count": 33,
   "id": "806e9875",
   "metadata": {},
   "outputs": [
    {
     "name": "stdout",
     "output_type": "stream",
     "text": [
      "ValueError(\"invalid literal for int() with base 10: '3e'\")\n",
      "You can enter only numbers\n"
     ]
    }
   ],
   "source": [
    "def square_arr(arr: list=None) -> list:\n",
    "    if arr is None:\n",
    "        arr = input('Input series of numbers separated by spaces: ')\n",
    "        arr = arr.split()\n",
    "    else:\n",
    "        try:\n",
    "            arr2 = [int(i)*int(i) for i in arr]\n",
    "            return arr2\n",
    "        except Exception as e:\n",
    "            print(repr(e))\n",
    "            print('You can enter only numbers')\n",
    "            return []\n",
    "\n",
    "def test_square_arr():\n",
    "    assert square_arr([1, 2, 3]) == [1, 4, 9]\n",
    "    assert type(square_arr([1, 2, 3])) == list\n",
    "    assert square_arr([1, 2, '3']) == [1, 4, 9]\n",
    "    assert square_arr([1, 2, '3e']) == []\n",
    "    assert square_arr([]) == []\n",
    "\n",
    "test_square_arr()"
   ]
  },
  {
   "cell_type": "markdown",
   "id": "94b2f7f6",
   "metadata": {},
   "source": [
    "### Task 2\n",
    "In this task you will create a function that takes a list of non-negative integers and strings and returns a new list with the strings filtered out.\n",
    "\n",
    "Example:  \\\n",
    "filter_list([1,2,'a','b']) == [1,2] \\\n",
    "filter_list([1,'a','b',0,15]) == [1,0,15] \\\n",
    "filter_list([1,2,'aasf','1','123',123]) == [1,2,123] \n"
   ]
  },
  {
   "cell_type": "code",
   "execution_count": 48,
   "id": "2ed23898",
   "metadata": {},
   "outputs": [],
   "source": [
    "# Домашка\n",
    "def filter_list(arr: list) -> list:\n",
    "    return [a for a in arr if not isinstance(a, str)]\n",
    "\n",
    "def test_filter_list():\n",
    "    assert filter_list([1,2,'a','b']) == [1,2]\n",
    "    assert filter_list([1,'a','b',0,15]) == [1,0,15]\n",
    "    assert filter_list([1,2,'aasf','1','123',123]) == [1,2,123] \n",
    "    assert filter_list([]) == [] \n",
    "    assert filter_list(['']) == [] \n",
    "\n",
    "test_filter_list()"
   ]
  },
  {
   "cell_type": "code",
   "execution_count": 253,
   "id": "a6890e76",
   "metadata": {},
   "outputs": [],
   "source": [
    "def test_filter_list(): \n",
    "    assert filter_list([1,2,'a','b']) == [1,2] , f'You return wrong value, need = [1,2]' \n",
    "    assert filter_list([1,'a','b',0,15]) == [1,0,15]\n",
    "    assert filter_list([1,2,'aasf','1','123',123]) == [1,2,123]\n",
    "    assert filter_list(['403', 'i', 174, 'G', '396', 572, 644, '72', '311']) ==  [174, 572, 644]\n",
    "    \n",
    "    assert filter_list([231, '127', 'lmAY^', '\\\\E^', 69, 887, 959, 679, 570, 'j', 735, 132, 846, 'QfT', '457']) \\\n",
    "    == [231, 69, 887, 959, 679, 570, 735, 132, 846]\n",
    "    assert filter_list([969, 'yQ8_J', '491', 465, '647', '228', '431']) == [969, 465]"
   ]
  },
  {
   "cell_type": "code",
   "execution_count": 44,
   "id": "60724ee0",
   "metadata": {},
   "outputs": [],
   "source": [
    "test_filter_list()"
   ]
  },
  {
   "cell_type": "markdown",
   "id": "9f66a391",
   "metadata": {},
   "source": [
    "## Practice block 1\n",
    "\n",
    "1. Write a Python program to compute the difference between two lists.\n",
    "\n",
    "    Sample data: ['a', 'b', 'c', 'd'], ['c', 'd', 'e']\n",
    "\n",
    "    Expected Output:\n",
    "\n",
    "    first-second: ['a', 'b']\n",
    "\n",
    "    second-first: ['e']\n",
    "    ```python\n",
    "    def compute_difference(first: list, second: list) -> tuple:\n",
    "        # write your code here\n",
    "        pass\n",
    "\n",
    "    def test_compute_difference():\n",
    "        result1 = compute_difference(['a', 'b', 'c', 'd'], ['c', 'd', 'e'])\n",
    "        assert result1 == (['a', 'b'], ['e'])\n",
    "\n",
    "        result2 = compute_difference([], ['c', 'd', 'e'])\n",
    "        assert result2 == ([], ['c', 'd', 'e'])\n",
    "\n",
    "        result3 = compute_difference([1, 2, 3], [4, 5, 6])\n",
    "        assert result3 == ([1, 2, 3], [4, 5, 6])\n",
    "\n",
    "        result3 = compute_difference([1, 2, 3], [2, 3, 4])\n",
    "        assert result3 == ([1], [4])\n",
    "    ```\n",
    "\n",
    "\n"
   ]
  },
  {
   "cell_type": "code",
   "execution_count": 95,
   "id": "cb082d90",
   "metadata": {},
   "outputs": [],
   "source": [
    "def compute_difference(first: list, second: list) -> tuple:\n",
    "    return (\n",
    "        [a for a in first if not a in second],\n",
    "        [a for a in second if not a in first]\n",
    "    )\n",
    "\n",
    "def test_compute_difference():\n",
    "    result1 = compute_difference(['a', 'b', 'c', 'd'], ['c', 'd', 'e'])\n",
    "    assert result1 == (['a', 'b'], ['e'])\n",
    "\n",
    "    result2 = compute_difference([], ['c', 'd', 'e'])\n",
    "    assert result2 == ([], ['c', 'd', 'e'])\n",
    "\n",
    "    result3 = compute_difference([1, 2, 3], [4, 5, 6])\n",
    "    assert result3 == ([1, 2, 3], [4, 5, 6])\n",
    "\n",
    "    result3 = compute_difference([1, 2, 3], [2, 3, 4])\n",
    "    assert result3 == ([1], [4])\n",
    "\n",
    "test_compute_difference()"
   ]
  },
  {
   "cell_type": "markdown",
   "id": "635ef888",
   "metadata": {},
   "source": [
    "\n",
    "9. Given an array of integers nums and an integer target, return indices of the two numbers such that they add up to target.\n",
    "\n",
    "    You may assume that each input would have exactly one solution, and you may not use the same element twice.\n",
    "\n",
    "    You can return the answer in any order.\n",
    "ß\n",
    "    **Example 1:**\n",
    "\n",
    "    Input: nums = [2,7,11,15], target = 9\n",
    "\n",
    "    Output: [0,1]\n",
    "\n",
    "    Explanation: Because nums[0] + nums[1] == 9, we return [0, 1].\n",
    "\n",
    "    **Example 2:**\n",
    "\n",
    "    Input: nums = [3,2,4], target = 6\n",
    "\n",
    "    Output: [1,2]\n",
    "\n",
    "    **Example 3:**\n",
    "\n",
    "    Input: nums = [3,3], target = 6\n",
    "\n",
    "    Output: [0,1]\n",
    "\n",
    "    ```python\n",
    "    def sum_of_two(nums: list, target: int) -> list:\n",
    "        # write your code here\n",
    "        pass\n",
    "\n",
    "    def test_sum_of_two():\n",
    "        result1 = sum_of_two([2,7,11,15], 9)\n",
    "        assert result1 == [0, 1]\n",
    "\n",
    "        result2 = sum_of_two([3,2,4], 6)\n",
    "        assert result2 == [1, 2]\n",
    "\n",
    "        result3 = sum_of_two([3,3], 6)\n",
    "        assert result3 == [0, 1]\n",
    "    ```\n"
   ]
  },
  {
   "cell_type": "code",
   "execution_count": 121,
   "id": "b2ff5fe7",
   "metadata": {},
   "outputs": [],
   "source": [
    "def sum_of_two(nums: list, target: int) -> list:\n",
    "    count = 1\n",
    "    for i in nums:\n",
    "        for j in nums[count:]:\n",
    "            if sum([i,j]) == target:\n",
    "                result = [nums.index(i), count]\n",
    "                return result\n",
    "        count+=1\n",
    "        \n",
    "\n",
    "def test_sum_of_two():\n",
    "    result1 = sum_of_two([2,7,11,15], 9)\n",
    "    assert result1 == [0, 1]\n",
    "\n",
    "    result2 = sum_of_two([3,2,4], 6)\n",
    "    assert result2 == [1, 2]\n",
    "\n",
    "    result3 = sum_of_two([3,3], 6)\n",
    "    assert result3 == [0, 1]\n",
    "\n",
    "test_sum_of_two()"
   ]
  },
  {
   "cell_type": "markdown",
   "id": "a2672e6c",
   "metadata": {},
   "source": [
    "Другий вариант рішення"
   ]
  },
  {
   "cell_type": "code",
   "execution_count": 129,
   "id": "376fc6bd",
   "metadata": {},
   "outputs": [
    {
     "name": "stdout",
     "output_type": "stream",
     "text": [
      "[[4, 9, 13, 17], [9, 14, 18, 22], [13, 18, 22, 26], [17, 22, 26, 30]]\n",
      "[[6, 5, 7], [5, 4, 6], [7, 6, 8]]\n",
      "[[6, 6], [6, 6]]\n"
     ]
    }
   ],
   "source": [
    "def sum_of_two(nums: list, target: int) -> list:\n",
    "    # matrix = [[row+col if not row == col else '*' for row in nums] for col in nums]\n",
    "    matrix = [[row+col for row in nums] for col in nums]\n",
    "    \n",
    "    print(matrix) # позиція в матриці цільового числа [row, column] і буде відповіддю за винятком однієї діагоналі - зверху вниз зліва направо\n",
    "    row_count = 0\n",
    "    for row in matrix:\n",
    "        col_count = 0\n",
    "        for col_value in row:\n",
    "            if row_count == col_count:  # в цій умові ми оминаємо діагональ, яка йде зверху вниз зліва направо\n",
    "                col_count+=1\n",
    "                continue\n",
    "            if col_value == target:\n",
    "                return [row_count, col_count]\n",
    "            col_count+=1\n",
    "        row_count+=1\n",
    "\n",
    "def test_sum_of_two():\n",
    "    result1 = sum_of_two([2,7,11,15], 9)\n",
    "    assert result1 == [0, 1]\n",
    "\n",
    "    result2 = sum_of_two([3,2,4], 6)\n",
    "    assert result2 == [1, 2]\n",
    "\n",
    "    result3 = sum_of_two([3,3], 6)\n",
    "    assert result3 == [0, 1]\n",
    "\n",
    "test_sum_of_two()\n"
   ]
  },
  {
   "cell_type": "markdown",
   "id": "8f48a1e2",
   "metadata": {},
   "source": [
    "\n",
    "9. Optional (hard): Longest Increasing Sequence\n",
    "\n",
    "    Have the function longest_increasing_sequence take the list of positive integers and return the length of the longest increasing subsequence (LIS). A LIS is a subset of the original list where the numbers are in sorted order, from lowest to highest, and are in increasing order. The sequence does not need to be contiguous or unique, and there can be several different subsequences. For example: if arr is [4, 3, 5, 1, 6] then a possible LIS is [3, 5, 6], and another is [1, 6]. For this input, your program should return 3 because that is the length of the longest increasing subsequence.\n",
    "    ```\n",
    "    Examples\n",
    "\n",
    "    Input: [9, 9, 4, 2]\n",
    "\n",
    "    Output: 1\n",
    "\n",
    "    Input: [10, 22, 9, 33, 21, 50, 41, 60, 22, 68, 90]\n",
    "\n",
    "    Output: 7\n",
    "\n",
    "    \n",
    "    ```\n",
    "    ```python\n",
    "    def longest_increasing_sequence(arr: list) -> int:\n",
    "        # write your code here\n",
    "        pass\n",
    "\n",
    "    def test_sum_of_two():\n",
    "        result1 = longest_increasing_sequence([9, 9, 4, 2])\n",
    "        assert result1 == 1\n",
    "\n",
    "        result2 = longest_increasing_sequence([10, 22, 9, 33, 21, 50, 41, 60, 22, 68, 90])\n",
    "        assert result2 == 7\n",
    "\n",
    "        result3 = longest_increasing_sequence([4, 3, 5, 1, 6])\n",
    "        assert result3 == 3\n",
    "    ```"
   ]
  },
  {
   "cell_type": "code",
   "execution_count": 142,
   "id": "8980bba9",
   "metadata": {},
   "outputs": [],
   "source": [
    "def longest_increasing_sequence(arr: list) -> int:\n",
    "        def get_increasing_seq(ls):\n",
    "                prev = ls[0]\n",
    "                return [prev] + [prev:=i for i in ls if i > prev]\n",
    "        count = 0\n",
    "        all_increasing_seqs = []\n",
    "        for i in arr:\n",
    "                all_increasing_seqs.append(get_increasing_seq(arr[count:]))\n",
    "        \n",
    "        return len(sorted(all_increasing_seqs, key=len)[-1])\n",
    "\n",
    "\n",
    "\n",
    "def test_sum_of_two():\n",
    "    result1 = longest_increasing_sequence([9, 9, 4, 2])\n",
    "    assert result1 == 1\n",
    "\n",
    "    result2 = longest_increasing_sequence([10, 22, 9, 33, 21, 50, 41, 60, 22, 68, 90])\n",
    "    assert result2 == 7\n",
    "\n",
    "    result3 = longest_increasing_sequence([4, 3, 5, 1, 6])\n",
    "    assert result3 == 3\n",
    "\n",
    "test_sum_of_two()"
   ]
  },
  {
   "cell_type": "markdown",
   "id": "0cf51849",
   "metadata": {},
   "source": [
    "## Practice block 2\n",
    "\n",
    "\n",
    "1. Create a list with next values [1, 4, 2, 5]. Create a sorted copy of that list w/o changing the original list.\n"
   ]
  },
  {
   "cell_type": "code",
   "execution_count": 49,
   "id": "4479b3f8",
   "metadata": {},
   "outputs": [
    {
     "name": "stdout",
     "output_type": "stream",
     "text": [
      "[1, 4, 2, 5]\n",
      "[1, 2, 4, 5]\n"
     ]
    }
   ],
   "source": [
    "ls = [1, 4, 2, 5]\n",
    "sorted_ls = sorted(ls)\n",
    "\n",
    "print(ls)\n",
    "print(sorted_ls)"
   ]
  },
  {
   "cell_type": "markdown",
   "id": "ff8f82e3",
   "metadata": {},
   "source": [
    "2. Sort the following list by population. Calculate average and total population for cities from this list:\n",
    "```\n",
    "[\n",
    "    ('New York City', 8550405),\n",
    "    ('Los Angeles', 3792621),\n",
    "    ('Chicago', 2695598),\n",
    "    ('Houston', 2100263),\n",
    "    ('Philadelphia', 1526006),\n",
    "    ('Phoenix', 1445632),\n",
    "    ('San Antonio', 1327407),\n",
    "    ('San Diego', 1307402),\n",
    "    ('Dallas', 1197816),\n",
    "    ('San Jose', 945942),\n",
    "]\n",
    "```\n",
    "\n"
   ]
  },
  {
   "cell_type": "code",
   "execution_count": 92,
   "id": "e96c90d8",
   "metadata": {},
   "outputs": [
    {
     "name": "stdout",
     "output_type": "stream",
     "text": [
      "Total population: 24_889_092\n",
      "Average population: 2_488_909\n"
     ]
    }
   ],
   "source": [
    "cities = [\n",
    "    ('New York City', 8550405),\n",
    "    ('Los Angeles', 3792621),\n",
    "    ('Chicago', 2695598),\n",
    "    ('Houston', 2100263),\n",
    "    ('Philadelphia', 1526006),\n",
    "    ('Phoenix', 1445632),\n",
    "    ('San Antonio', 1327407),\n",
    "    ('San Diego', 1307402),\n",
    "    ('Dallas', 1197816),\n",
    "    ('San Jose', 945942),\n",
    "]\n",
    "\n",
    "# Сортування метод 1 - я б залишив його, але ми не вчили lambda\n",
    "# sorted(cities, key= lambda x: x[1], reverse=True)\n",
    "\n",
    "\n",
    "# Сортування метод 2 - як і попередній, але без lambda\n",
    "# def key_func(x):\n",
    "#     return x[1]\n",
    "\n",
    "# sorted(cities, key=key_func, reverse=True)\n",
    "\n",
    "# Сортування метод 3 - щось таке булькало в моїй підсвідомості, я загуглив і знайшов такий спосіб :)\n",
    "from operator import itemgetter\n",
    "sorted(cities, key=itemgetter(1), reverse=True)\n",
    "\n",
    "# Рахуємо загальний результат і середнє значення\n",
    "total = 0\n",
    "[total:= i[1] + total for i in cities]\n",
    "\n",
    "# або\n",
    "# population_ls = [i[1] for i in cities]\n",
    "# total = sum(population_ls)\n",
    "\n",
    "print('Total population: {:_.0f}'.format(total))\n",
    "print('Average population: {:_.0f}'.format(total/len(cities)))\n",
    "\n"
   ]
  }
 ],
 "metadata": {
  "kernelspec": {
   "display_name": "Python 3.11.0 64-bit",
   "language": "python",
   "name": "python3"
  },
  "language_info": {
   "codemirror_mode": {
    "name": "ipython",
    "version": 3
   },
   "file_extension": ".py",
   "mimetype": "text/x-python",
   "name": "python",
   "nbconvert_exporter": "python",
   "pygments_lexer": "ipython3",
   "version": "3.11.0"
  },
  "vscode": {
   "interpreter": {
    "hash": "c261aea317cc0286b3b3261fbba9abdec21eaa57589985bb7a274bf54d6cc0a7"
   }
  }
 },
 "nbformat": 4,
 "nbformat_minor": 5
}
