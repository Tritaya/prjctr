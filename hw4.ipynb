{
 "cells": [
  {
   "cell_type": "markdown",
   "metadata": {},
   "source": [
    "### Practice section 2\n",
    "\n",
    "1. Write a Python program that reads two integers representing a month and prints the season for that month. Get month from the user input.\n",
    "\n",
    "    Expected Output:\n",
    "\n",
    "    **Input the month:** october                     \n",
    "                                                     \n",
    "    Season is autumn\n"
   ]
  },
  {
   "cell_type": "code",
   "execution_count": 86,
   "metadata": {},
   "outputs": [
    {
     "name": "stdout",
     "output_type": "stream",
     "text": [
      "Bad input\n"
     ]
    }
   ],
   "source": [
    "mo_number = input()\n",
    "\n",
    "match [mo_number]:\n",
    "    case ['12' | '01' | '02']: print('Winter')\n",
    "    case ['03' | '04' | '05']: print('Spring')\n",
    "    case ['06' | '07' | '08']: print('Summer')\n",
    "    case ['09' | '10' | '11']: print('Autumn')\n",
    "    case _: print('Bad input')\n",
    "\n",
    "# в завданні потрібно прийняти two integers, тому input '1' не проходить"
   ]
  },
  {
   "cell_type": "markdown",
   "metadata": {},
   "source": [
    "### Другий варіант"
   ]
  },
  {
   "cell_type": "code",
   "execution_count": 3,
   "metadata": {},
   "outputs": [
    {
     "name": "stdout",
     "output_type": "stream",
     "text": [
      "Winter\n"
     ]
    }
   ],
   "source": [
    "mo_number = input()\n",
    "\n",
    "if mo_number in ['12', '01', '02']:\n",
    "    print('Winter')\n",
    "elif mo_number in ['03', '04', '05']:\n",
    "    print('Spring')\n",
    "elif mo_number in ['06', '07', '08']:\n",
    "    print('Summer')\n",
    "elif mo_number in ['09', '10', '11']:\n",
    "    print('Autumn')\n",
    "else:\n",
    "    print('Bad input')"
   ]
  },
  {
   "cell_type": "markdown",
   "metadata": {},
   "source": []
  },
  {
   "cell_type": "markdown",
   "metadata": {},
   "source": [
    "\n",
    "\n",
    "2. Write a Python program to get next day of a given date. Get day, month and year from the user input.\n",
    "Expected Output:\n",
    "\n",
    "    **Input a year:** 2022                                                     \n",
    "    **Input a month [1-12]:** 8                                               \n",
    "    **Input a day [1-31]:** 23                                           \n",
    "    The next date is [yyyy-mm-dd] 2022-8-24\n"
   ]
  },
  {
   "cell_type": "code",
   "execution_count": 145,
   "metadata": {},
   "outputs": [
    {
     "name": "stdout",
     "output_type": "stream",
     "text": [
      "1\n",
      "1\n",
      "The next date is [2023-13-1]\n"
     ]
    }
   ],
   "source": [
    "y, m, d = (\n",
    "int(input('Enter a year: ')),\n",
    "int(input('Enter a month [1-12]: ')),\n",
    "int(input('Enter a day: [1-31]'))\n",
    ")\n",
    "\n",
    "# y,m,d = 2022, 12, 31 # for debug\n",
    "\n",
    "# це простіше зробити оператором in, але ми його ще не вивчали, тому робимо наявними засобами\n",
    "if m == 1 or m == 3 or m == 5 or m == 7 or m == 8 or m == 10 or m == 12:\n",
    "    x = 31\n",
    "elif m == 2:\n",
    "    x = 29 if y % 4 == 0 else 28 # визначаємо кількість днів для лютого в залежності від того, високосний рік чи ні\n",
    "else:\n",
    "    x = 30\n",
    "\n",
    "d_ = d+1 - x * (d//x) # починаємо з 1, якщо перескочуємо через 29, 30 чи 31 в залежності від місяця\n",
    "\n",
    "m_ = m + d//x # додаємо 1 до місяця, якщо перейшли останній день місяця\n",
    "\n",
    "y_ = y + m//12 if d == 31 else y # оброблюємо кінець року\n",
    "\n",
    "print(f'The next date is [{y_}-{m_}-{d_}]')"
   ]
  },
  {
   "cell_type": "markdown",
   "metadata": {},
   "source": [
    "\n",
    "3. Get a phrase from user input. Display whether the lenght of the string if longer than 5 characters, equal to 5 characters or shorter than 5 characters. Use if, elif, else for this.\n"
   ]
  },
  {
   "cell_type": "code",
   "execution_count": 93,
   "metadata": {},
   "outputs": [
    {
     "name": "stdout",
     "output_type": "stream",
     "text": [
      "less than 5 chars\n"
     ]
    }
   ],
   "source": [
    "s = input('Enter a word: ')\n",
    "l = len(s)\n",
    "if l > 5:\n",
    "    print('more than 5 chars')\n",
    "elif l == 5:\n",
    "    print('5 chars exactly')\n",
    "else:\n",
    "    print('less than 5 chars')"
   ]
  },
  {
   "cell_type": "markdown",
   "metadata": {},
   "source": [
    "\n",
    "4. Get a positive number from user input. Find all factors of this number.\n",
    "    \n",
    "    Example:\n",
    "    - If the number is 6, the factors are: 1, 2, 3, 6\n",
    "    - If the number is 10, the factors are: 1, 2, 5, 10\n"
   ]
  },
  {
   "cell_type": "code",
   "execution_count": 99,
   "metadata": {},
   "outputs": [
    {
     "name": "stdout",
     "output_type": "stream",
     "text": [
      "1\n",
      "3\n",
      "5\n",
      "9\n",
      "15\n",
      "45\n"
     ]
    }
   ],
   "source": [
    "for i in range(1, num:= (int(input('Enter a positive number')))):\n",
    "    if num % i == 0:\n",
    "        print(i)\n",
    "print(num)"
   ]
  },
  {
   "cell_type": "markdown",
   "metadata": {},
   "source": [
    "\n",
    "5. Write a Python program to check a triangle is equilateral, isosceles or scalene. Get all three sides from user input.\n",
    "\n",
    "    Note :\n",
    "    1. An equilateral triangle is a triangle in which all three sides are equal.\n",
    "    2. A scalene triangle is a triangle that has three unequal sides.\n",
    "    3. An isosceles triangle is a triangle with (at least) two equal sides."
   ]
  },
  {
   "cell_type": "code",
   "execution_count": 107,
   "metadata": {},
   "outputs": [
    {
     "name": "stdout",
     "output_type": "stream",
     "text": [
      "Equilateral\n"
     ]
    }
   ],
   "source": [
    "a, b, c = (\n",
    "    input('Enter side a: '),\n",
    "    input('Enter side b: '),\n",
    "    input('Enter side c: '),\n",
    ")\n",
    "\n",
    "if a == b == c:\n",
    "    print('Equilateral')\n",
    "elif a != b and b != c and c !=a:\n",
    "    print('Scalene')\n",
    "else:\n",
    "    print('Isosceles')"
   ]
  },
  {
   "cell_type": "markdown",
   "metadata": {},
   "source": [
    "### Practice section 3:\n",
    "\n",
    "1. Write a for loop that prints out the integers from 2 to 10, each on a new line, by using the range() function.\n"
   ]
  },
  {
   "cell_type": "code",
   "execution_count": null,
   "metadata": {},
   "outputs": [],
   "source": [
    "for i in range(2,11):\n",
    "    print(i)"
   ]
  },
  {
   "cell_type": "markdown",
   "metadata": {},
   "source": [
    "\n",
    "2. Use a while loop that prints out the integers from 2 to 10\n"
   ]
  },
  {
   "cell_type": "code",
   "execution_count": null,
   "metadata": {},
   "outputs": [],
   "source": [
    "i = 2\n",
    "while i < 11:\n",
    "    print(i)\n",
    "    i+=1"
   ]
  },
  {
   "cell_type": "markdown",
   "metadata": {},
   "source": [
    "\n",
    "3. Write a program that takes number as its input and doubles that number few times in a loop. Number of iterations and initial number should be taken from user input. You should display each result on a separate line. Here is some sample output:\n",
    "    ```\n",
    "    Input:\n",
    "    initial number: 2\n",
    "    number of iterations: 5\n",
    "\n",
    "    Output:\n",
    "    4\n",
    "    8\n",
    "    16\n",
    "    32\n",
    "    64\n",
    "    ```\n"
   ]
  },
  {
   "cell_type": "code",
   "execution_count": 20,
   "metadata": {},
   "outputs": [
    {
     "name": "stdout",
     "output_type": "stream",
     "text": [
      "3\n",
      "6\n",
      "12\n",
      "24\n",
      "48\n"
     ]
    }
   ],
   "source": [
    "# пропускаю обробку виключень, коли не вводиться число. Можу добавити за потреби.\n",
    "init = int(input('Enter initial number: '))\n",
    "iterations = int(input('Enter iterations count: '))\n",
    "for i in range(iterations):\n",
    "    print(init*2**i)\n"
   ]
  },
  {
   "cell_type": "markdown",
   "metadata": {},
   "source": [
    "\n",
    "4. Write a program that caluculate Fibonacci series. The Fibonacci series is a series of numbers in which each number is the sum of the two preceding numbers. The first two numbers are 1 and 1. The third number is 1 + 1 = 2, the fourth number is 1 + 2 = 3, and so on. Number of iterations should be taken from user input.\n"
   ]
  },
  {
   "cell_type": "code",
   "execution_count": 38,
   "metadata": {},
   "outputs": [
    {
     "name": "stdout",
     "output_type": "stream",
     "text": [
      "1\n",
      "2\n"
     ]
    }
   ],
   "source": [
    "final = int(input(\"Enter the number of items in Fib series you want to get: \")) -2\n",
    "i_minus_one, i_minus_two = 1, 1\n",
    "\n",
    "if final < 1:\n",
    "    None\n",
    "elif final < 2:\n",
    "    print(i_minus_one)\n",
    "elif final < 3:\n",
    "    print(i_minus_one)\n",
    "    print(i_minus_two)\n",
    "for i in range(final):\n",
    "    print(current := i_minus_one + i_minus_two)\n",
    "    i_minus_two, i_minus_one = i_minus_one, current"
   ]
  },
  {
   "cell_type": "markdown",
   "metadata": {},
   "source": [
    "\n",
    "5. Write a program that takes a number as input and revert it using math operators. You might use result of the exercise from the first lesson. Here you should be able to do it not only for three-digit numbers, but for any numbers."
   ]
  },
  {
   "cell_type": "code",
   "execution_count": 70,
   "metadata": {},
   "outputs": [
    {
     "name": "stdout",
     "output_type": "stream",
     "text": [
      "original number: 45654 reverted number: 45654\n"
     ]
    }
   ],
   "source": [
    "import math\n",
    "num = original = int(input('Enter a number: '))\n",
    "digits = int(math.log10(num))+1 # рахуємо кількість розрядів\n",
    "reverted = 0 # майбутнє розвернуте число\n",
    "for i in range(digits, 0, -1):\n",
    "    units = num % 10 # одиниці, підуть в кількість одиниць найстаршого розряду розвернутого числа\n",
    "    num = tens = num//10 # десятки, тепер наше число перетворюється з виду 345 на 34 для тих же самих дій вже для 34\n",
    "    reverted +=  units * 10 ** (i-1) # рахується таким чином, щоб одиниці оригінального числа стали в найстарший розряд розвернутого\n",
    "print(f'original number: {original}', f'reverted number: {reverted}')"
   ]
  },
  {
   "cell_type": "markdown",
   "metadata": {},
   "source": [
    "### Practice section 4\n",
    "\n",
    "1. Write a program that always asks user to input somethings. Quit only if user inputs 'q' or 'Q'.\n"
   ]
  },
  {
   "cell_type": "code",
   "execution_count": 1,
   "metadata": {},
   "outputs": [
    {
     "name": "stdout",
     "output_type": "stream",
     "text": [
      "Once again\n",
      "Once again\n",
      "Once again\n"
     ]
    }
   ],
   "source": [
    "while (cmd:= input('Enter anything (q/Q to quit): ')).lower() !='q':\n",
    "    print('Once again')"
   ]
  },
  {
   "cell_type": "markdown",
   "metadata": {},
   "source": [
    "\n",
    "2. Write a program that iterated from 0 to 100 and prints out the number if it is divisible by 3."
   ]
  },
  {
   "cell_type": "code",
   "execution_count": null,
   "metadata": {},
   "outputs": [],
   "source": [
    "for i in range(101):\n",
    "    print(i) if i%3 == 0 else None"
   ]
  },
  {
   "cell_type": "markdown",
   "metadata": {},
   "source": [
    "\n",
    "3. Get a number from user input and iterate from 0 to that number. \n",
    "    \n",
    "    1. Print 'foo' if the number is divisible by 3. \n",
    "    2. Print 'bar' if the number is divisible by 5. \n",
    "    3. Print 'foobar' if the number is divisible by both 3 and 5.\n",
    "\n"
   ]
  },
  {
   "cell_type": "code",
   "execution_count": 7,
   "metadata": {},
   "outputs": [
    {
     "name": "stdout",
     "output_type": "stream",
     "text": [
      "foobar\n",
      "bar\n",
      "foo\n"
     ]
    }
   ],
   "source": [
    "while (num:= input('Enter a number: ')).isnumeric() == False:\n",
    "    print('Not a valid number, enter a number: ')\n",
    "num=int(num)\n",
    "\n",
    "if num % 15 == 0: # це достатня умова, щоб число ділилося на 3 і 5\n",
    "    print('foobar')\n",
    "if num % 5 == 0:\n",
    "    print('bar')\n",
    "if num % 3 == 0:\n",
    "    print('foo')\n",
    "\n",
    "# В цій реалізації послідовність не має значення для такої постановки задачі.\n",
    "# Тобто я свідомо відмовився від else і код буде виводити всі три варіанта для, наприклад, 15, оскільки це не суперечить задачі."
   ]
  }
 ],
 "metadata": {
  "kernelspec": {
   "display_name": "Python 3.11.0 64-bit",
   "language": "python",
   "name": "python3"
  },
  "language_info": {
   "codemirror_mode": {
    "name": "ipython",
    "version": 3
   },
   "file_extension": ".py",
   "mimetype": "text/x-python",
   "name": "python",
   "nbconvert_exporter": "python",
   "pygments_lexer": "ipython3",
   "version": "3.11.0"
  },
  "orig_nbformat": 4,
  "vscode": {
   "interpreter": {
    "hash": "c261aea317cc0286b3b3261fbba9abdec21eaa57589985bb7a274bf54d6cc0a7"
   }
  }
 },
 "nbformat": 4,
 "nbformat_minor": 2
}
